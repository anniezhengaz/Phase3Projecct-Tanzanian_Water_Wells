{
 "cells": [
  {
   "cell_type": "code",
   "execution_count": 1,
   "id": "ebc91acb",
   "metadata": {},
   "outputs": [],
   "source": [
    "#Import relevant packages\n",
    "import numpy as np\n",
    "import pandas as pd\n",
    "from sklearn.linear_model import LogisticRegression\n",
    "from sklearn.model_selection import train_test_split\n",
    "from sklearn.metrics import accuracy_score\n",
    "from sklearn.tree import DecisionTreeClassifier \n",
    "import matplotlib.pyplot as plt\n",
    "from sklearn import tree"
   ]
  },
  {
   "cell_type": "code",
   "execution_count": 2,
   "id": "be0c2b99",
   "metadata": {},
   "outputs": [],
   "source": [
    "#Import the datasets\n",
    "sub_df = pd.read_csv('submission_format.csv')\n",
    "test_vals = pd.read_csv('test_set_values.csv')\n",
    "train_labels = pd.read_csv('training_set_labels.csv')\n",
    "train_vals = pd.read_csv('training_set_values.csv')"
   ]
  },
  {
   "cell_type": "code",
   "execution_count": 3,
   "id": "a0fd43c0",
   "metadata": {},
   "outputs": [
    {
     "name": "stdout",
     "output_type": "stream",
     "text": [
      "<class 'pandas.core.frame.DataFrame'>\n",
      "RangeIndex: 14850 entries, 0 to 14849\n",
      "Data columns (total 2 columns):\n",
      " #   Column        Non-Null Count  Dtype \n",
      "---  ------        --------------  ----- \n",
      " 0   id            14850 non-null  int64 \n",
      " 1   status_group  14850 non-null  object\n",
      "dtypes: int64(1), object(1)\n",
      "memory usage: 232.2+ KB\n"
     ]
    }
   ],
   "source": [
    "sub_df.info()"
   ]
  },
  {
   "cell_type": "code",
   "execution_count": 4,
   "id": "9c495fa3",
   "metadata": {
    "scrolled": true
   },
   "outputs": [
    {
     "name": "stdout",
     "output_type": "stream",
     "text": [
      "<class 'pandas.core.frame.DataFrame'>\n",
      "RangeIndex: 14850 entries, 0 to 14849\n",
      "Data columns (total 40 columns):\n",
      " #   Column                 Non-Null Count  Dtype  \n",
      "---  ------                 --------------  -----  \n",
      " 0   id                     14850 non-null  int64  \n",
      " 1   amount_tsh             14850 non-null  float64\n",
      " 2   date_recorded          14850 non-null  object \n",
      " 3   funder                 13981 non-null  object \n",
      " 4   gps_height             14850 non-null  int64  \n",
      " 5   installer              13973 non-null  object \n",
      " 6   longitude              14850 non-null  float64\n",
      " 7   latitude               14850 non-null  float64\n",
      " 8   wpt_name               14850 non-null  object \n",
      " 9   num_private            14850 non-null  int64  \n",
      " 10  basin                  14850 non-null  object \n",
      " 11  subvillage             14751 non-null  object \n",
      " 12  region                 14850 non-null  object \n",
      " 13  region_code            14850 non-null  int64  \n",
      " 14  district_code          14850 non-null  int64  \n",
      " 15  lga                    14850 non-null  object \n",
      " 16  ward                   14850 non-null  object \n",
      " 17  population             14850 non-null  int64  \n",
      " 18  public_meeting         14029 non-null  object \n",
      " 19  recorded_by            14850 non-null  object \n",
      " 20  scheme_management      13881 non-null  object \n",
      " 21  scheme_name            7758 non-null   object \n",
      " 22  permit                 14113 non-null  object \n",
      " 23  construction_year      14850 non-null  int64  \n",
      " 24  extraction_type        14850 non-null  object \n",
      " 25  extraction_type_group  14850 non-null  object \n",
      " 26  extraction_type_class  14850 non-null  object \n",
      " 27  management             14850 non-null  object \n",
      " 28  management_group       14850 non-null  object \n",
      " 29  payment                14850 non-null  object \n",
      " 30  payment_type           14850 non-null  object \n",
      " 31  water_quality          14850 non-null  object \n",
      " 32  quality_group          14850 non-null  object \n",
      " 33  quantity               14850 non-null  object \n",
      " 34  quantity_group         14850 non-null  object \n",
      " 35  source                 14850 non-null  object \n",
      " 36  source_type            14850 non-null  object \n",
      " 37  source_class           14850 non-null  object \n",
      " 38  waterpoint_type        14850 non-null  object \n",
      " 39  waterpoint_type_group  14850 non-null  object \n",
      "dtypes: float64(3), int64(7), object(30)\n",
      "memory usage: 4.5+ MB\n"
     ]
    }
   ],
   "source": [
    "test_vals.info()"
   ]
  },
  {
   "cell_type": "code",
   "execution_count": 5,
   "id": "5079944e",
   "metadata": {},
   "outputs": [
    {
     "name": "stdout",
     "output_type": "stream",
     "text": [
      "<class 'pandas.core.frame.DataFrame'>\n",
      "RangeIndex: 59400 entries, 0 to 59399\n",
      "Data columns (total 2 columns):\n",
      " #   Column        Non-Null Count  Dtype \n",
      "---  ------        --------------  ----- \n",
      " 0   id            59400 non-null  int64 \n",
      " 1   status_group  59400 non-null  object\n",
      "dtypes: int64(1), object(1)\n",
      "memory usage: 928.2+ KB\n"
     ]
    }
   ],
   "source": [
    "train_labels.info()"
   ]
  },
  {
   "cell_type": "code",
   "execution_count": 6,
   "id": "fe4b3234",
   "metadata": {},
   "outputs": [
    {
     "data": {
      "text/plain": [
       "functional                 32259\n",
       "non functional             22824\n",
       "functional needs repair     4317\n",
       "Name: status_group, dtype: int64"
      ]
     },
     "execution_count": 6,
     "metadata": {},
     "output_type": "execute_result"
    }
   ],
   "source": [
    "train_labels['status_group'].value_counts()"
   ]
  },
  {
   "cell_type": "markdown",
   "id": "54999b4c",
   "metadata": {},
   "source": [
    "## Merge Training Dataset"
   ]
  },
  {
   "cell_type": "markdown",
   "id": "8c814991",
   "metadata": {},
   "source": [
    "We've elected to merge the Training datasets with each well's information and functionality into one."
   ]
  },
  {
   "cell_type": "code",
   "execution_count": 7,
   "id": "bc7e5912",
   "metadata": {},
   "outputs": [],
   "source": [
    "#Merge the training datatsets\n",
    "train_df = train_vals.merge(train_labels, left_on = 'id', right_on = 'id')"
   ]
  },
  {
   "cell_type": "code",
   "execution_count": 8,
   "id": "b991f317",
   "metadata": {},
   "outputs": [
    {
     "data": {
      "text/html": [
       "<div>\n",
       "<style scoped>\n",
       "    .dataframe tbody tr th:only-of-type {\n",
       "        vertical-align: middle;\n",
       "    }\n",
       "\n",
       "    .dataframe tbody tr th {\n",
       "        vertical-align: top;\n",
       "    }\n",
       "\n",
       "    .dataframe thead th {\n",
       "        text-align: right;\n",
       "    }\n",
       "</style>\n",
       "<table border=\"1\" class=\"dataframe\">\n",
       "  <thead>\n",
       "    <tr style=\"text-align: right;\">\n",
       "      <th></th>\n",
       "      <th>id</th>\n",
       "      <th>amount_tsh</th>\n",
       "      <th>date_recorded</th>\n",
       "      <th>funder</th>\n",
       "      <th>gps_height</th>\n",
       "      <th>installer</th>\n",
       "      <th>longitude</th>\n",
       "      <th>latitude</th>\n",
       "      <th>wpt_name</th>\n",
       "      <th>num_private</th>\n",
       "      <th>...</th>\n",
       "      <th>water_quality</th>\n",
       "      <th>quality_group</th>\n",
       "      <th>quantity</th>\n",
       "      <th>quantity_group</th>\n",
       "      <th>source</th>\n",
       "      <th>source_type</th>\n",
       "      <th>source_class</th>\n",
       "      <th>waterpoint_type</th>\n",
       "      <th>waterpoint_type_group</th>\n",
       "      <th>status_group</th>\n",
       "    </tr>\n",
       "  </thead>\n",
       "  <tbody>\n",
       "    <tr>\n",
       "      <th>0</th>\n",
       "      <td>69572</td>\n",
       "      <td>6000.0</td>\n",
       "      <td>2011-03-14</td>\n",
       "      <td>Roman</td>\n",
       "      <td>1390</td>\n",
       "      <td>Roman</td>\n",
       "      <td>34.938093</td>\n",
       "      <td>-9.856322</td>\n",
       "      <td>none</td>\n",
       "      <td>0</td>\n",
       "      <td>...</td>\n",
       "      <td>soft</td>\n",
       "      <td>good</td>\n",
       "      <td>enough</td>\n",
       "      <td>enough</td>\n",
       "      <td>spring</td>\n",
       "      <td>spring</td>\n",
       "      <td>groundwater</td>\n",
       "      <td>communal standpipe</td>\n",
       "      <td>communal standpipe</td>\n",
       "      <td>functional</td>\n",
       "    </tr>\n",
       "    <tr>\n",
       "      <th>1</th>\n",
       "      <td>8776</td>\n",
       "      <td>0.0</td>\n",
       "      <td>2013-03-06</td>\n",
       "      <td>Grumeti</td>\n",
       "      <td>1399</td>\n",
       "      <td>GRUMETI</td>\n",
       "      <td>34.698766</td>\n",
       "      <td>-2.147466</td>\n",
       "      <td>Zahanati</td>\n",
       "      <td>0</td>\n",
       "      <td>...</td>\n",
       "      <td>soft</td>\n",
       "      <td>good</td>\n",
       "      <td>insufficient</td>\n",
       "      <td>insufficient</td>\n",
       "      <td>rainwater harvesting</td>\n",
       "      <td>rainwater harvesting</td>\n",
       "      <td>surface</td>\n",
       "      <td>communal standpipe</td>\n",
       "      <td>communal standpipe</td>\n",
       "      <td>functional</td>\n",
       "    </tr>\n",
       "    <tr>\n",
       "      <th>2</th>\n",
       "      <td>34310</td>\n",
       "      <td>25.0</td>\n",
       "      <td>2013-02-25</td>\n",
       "      <td>Lottery Club</td>\n",
       "      <td>686</td>\n",
       "      <td>World vision</td>\n",
       "      <td>37.460664</td>\n",
       "      <td>-3.821329</td>\n",
       "      <td>Kwa Mahundi</td>\n",
       "      <td>0</td>\n",
       "      <td>...</td>\n",
       "      <td>soft</td>\n",
       "      <td>good</td>\n",
       "      <td>enough</td>\n",
       "      <td>enough</td>\n",
       "      <td>dam</td>\n",
       "      <td>dam</td>\n",
       "      <td>surface</td>\n",
       "      <td>communal standpipe multiple</td>\n",
       "      <td>communal standpipe</td>\n",
       "      <td>functional</td>\n",
       "    </tr>\n",
       "    <tr>\n",
       "      <th>3</th>\n",
       "      <td>67743</td>\n",
       "      <td>0.0</td>\n",
       "      <td>2013-01-28</td>\n",
       "      <td>Unicef</td>\n",
       "      <td>263</td>\n",
       "      <td>UNICEF</td>\n",
       "      <td>38.486161</td>\n",
       "      <td>-11.155298</td>\n",
       "      <td>Zahanati Ya Nanyumbu</td>\n",
       "      <td>0</td>\n",
       "      <td>...</td>\n",
       "      <td>soft</td>\n",
       "      <td>good</td>\n",
       "      <td>dry</td>\n",
       "      <td>dry</td>\n",
       "      <td>machine dbh</td>\n",
       "      <td>borehole</td>\n",
       "      <td>groundwater</td>\n",
       "      <td>communal standpipe multiple</td>\n",
       "      <td>communal standpipe</td>\n",
       "      <td>non functional</td>\n",
       "    </tr>\n",
       "    <tr>\n",
       "      <th>4</th>\n",
       "      <td>19728</td>\n",
       "      <td>0.0</td>\n",
       "      <td>2011-07-13</td>\n",
       "      <td>Action In A</td>\n",
       "      <td>0</td>\n",
       "      <td>Artisan</td>\n",
       "      <td>31.130847</td>\n",
       "      <td>-1.825359</td>\n",
       "      <td>Shuleni</td>\n",
       "      <td>0</td>\n",
       "      <td>...</td>\n",
       "      <td>soft</td>\n",
       "      <td>good</td>\n",
       "      <td>seasonal</td>\n",
       "      <td>seasonal</td>\n",
       "      <td>rainwater harvesting</td>\n",
       "      <td>rainwater harvesting</td>\n",
       "      <td>surface</td>\n",
       "      <td>communal standpipe</td>\n",
       "      <td>communal standpipe</td>\n",
       "      <td>functional</td>\n",
       "    </tr>\n",
       "  </tbody>\n",
       "</table>\n",
       "<p>5 rows × 41 columns</p>\n",
       "</div>"
      ],
      "text/plain": [
       "      id  amount_tsh date_recorded        funder  gps_height     installer  \\\n",
       "0  69572      6000.0    2011-03-14         Roman        1390         Roman   \n",
       "1   8776         0.0    2013-03-06       Grumeti        1399       GRUMETI   \n",
       "2  34310        25.0    2013-02-25  Lottery Club         686  World vision   \n",
       "3  67743         0.0    2013-01-28        Unicef         263        UNICEF   \n",
       "4  19728         0.0    2011-07-13   Action In A           0       Artisan   \n",
       "\n",
       "   longitude   latitude              wpt_name  num_private  ... water_quality  \\\n",
       "0  34.938093  -9.856322                  none            0  ...          soft   \n",
       "1  34.698766  -2.147466              Zahanati            0  ...          soft   \n",
       "2  37.460664  -3.821329           Kwa Mahundi            0  ...          soft   \n",
       "3  38.486161 -11.155298  Zahanati Ya Nanyumbu            0  ...          soft   \n",
       "4  31.130847  -1.825359               Shuleni            0  ...          soft   \n",
       "\n",
       "  quality_group      quantity  quantity_group                source  \\\n",
       "0          good        enough          enough                spring   \n",
       "1          good  insufficient    insufficient  rainwater harvesting   \n",
       "2          good        enough          enough                   dam   \n",
       "3          good           dry             dry           machine dbh   \n",
       "4          good      seasonal        seasonal  rainwater harvesting   \n",
       "\n",
       "            source_type source_class              waterpoint_type  \\\n",
       "0                spring  groundwater           communal standpipe   \n",
       "1  rainwater harvesting      surface           communal standpipe   \n",
       "2                   dam      surface  communal standpipe multiple   \n",
       "3              borehole  groundwater  communal standpipe multiple   \n",
       "4  rainwater harvesting      surface           communal standpipe   \n",
       "\n",
       "  waterpoint_type_group    status_group  \n",
       "0    communal standpipe      functional  \n",
       "1    communal standpipe      functional  \n",
       "2    communal standpipe      functional  \n",
       "3    communal standpipe  non functional  \n",
       "4    communal standpipe      functional  \n",
       "\n",
       "[5 rows x 41 columns]"
      ]
     },
     "execution_count": 8,
     "metadata": {},
     "output_type": "execute_result"
    }
   ],
   "source": [
    "train_df.head()"
   ]
  },
  {
   "cell_type": "code",
   "execution_count": 9,
   "id": "05e2d735",
   "metadata": {},
   "outputs": [
    {
     "name": "stdout",
     "output_type": "stream",
     "text": [
      "<class 'pandas.core.frame.DataFrame'>\n",
      "Int64Index: 59400 entries, 0 to 59399\n",
      "Data columns (total 41 columns):\n",
      " #   Column                 Non-Null Count  Dtype  \n",
      "---  ------                 --------------  -----  \n",
      " 0   id                     59400 non-null  int64  \n",
      " 1   amount_tsh             59400 non-null  float64\n",
      " 2   date_recorded          59400 non-null  object \n",
      " 3   funder                 55765 non-null  object \n",
      " 4   gps_height             59400 non-null  int64  \n",
      " 5   installer              55745 non-null  object \n",
      " 6   longitude              59400 non-null  float64\n",
      " 7   latitude               59400 non-null  float64\n",
      " 8   wpt_name               59400 non-null  object \n",
      " 9   num_private            59400 non-null  int64  \n",
      " 10  basin                  59400 non-null  object \n",
      " 11  subvillage             59029 non-null  object \n",
      " 12  region                 59400 non-null  object \n",
      " 13  region_code            59400 non-null  int64  \n",
      " 14  district_code          59400 non-null  int64  \n",
      " 15  lga                    59400 non-null  object \n",
      " 16  ward                   59400 non-null  object \n",
      " 17  population             59400 non-null  int64  \n",
      " 18  public_meeting         56066 non-null  object \n",
      " 19  recorded_by            59400 non-null  object \n",
      " 20  scheme_management      55523 non-null  object \n",
      " 21  scheme_name            31234 non-null  object \n",
      " 22  permit                 56344 non-null  object \n",
      " 23  construction_year      59400 non-null  int64  \n",
      " 24  extraction_type        59400 non-null  object \n",
      " 25  extraction_type_group  59400 non-null  object \n",
      " 26  extraction_type_class  59400 non-null  object \n",
      " 27  management             59400 non-null  object \n",
      " 28  management_group       59400 non-null  object \n",
      " 29  payment                59400 non-null  object \n",
      " 30  payment_type           59400 non-null  object \n",
      " 31  water_quality          59400 non-null  object \n",
      " 32  quality_group          59400 non-null  object \n",
      " 33  quantity               59400 non-null  object \n",
      " 34  quantity_group         59400 non-null  object \n",
      " 35  source                 59400 non-null  object \n",
      " 36  source_type            59400 non-null  object \n",
      " 37  source_class           59400 non-null  object \n",
      " 38  waterpoint_type        59400 non-null  object \n",
      " 39  waterpoint_type_group  59400 non-null  object \n",
      " 40  status_group           59400 non-null  object \n",
      "dtypes: float64(3), int64(7), object(31)\n",
      "memory usage: 19.0+ MB\n"
     ]
    }
   ],
   "source": [
    "train_df.info()"
   ]
  },
  {
   "cell_type": "markdown",
   "id": "fea93130",
   "metadata": {},
   "source": [
    "## Data Exploration"
   ]
  },
  {
   "cell_type": "markdown",
   "id": "072bd9f2",
   "metadata": {},
   "source": [
    "### Check for Duplicate IDs"
   ]
  },
  {
   "cell_type": "code",
   "execution_count": 10,
   "id": "d58d4314",
   "metadata": {
    "scrolled": false
   },
   "outputs": [
    {
     "data": {
      "text/plain": [
       "True"
      ]
     },
     "execution_count": 10,
     "metadata": {},
     "output_type": "execute_result"
    }
   ],
   "source": [
    "#Check if any duplicate IDs\n",
    "train_df['id'].is_unique"
   ]
  },
  {
   "cell_type": "markdown",
   "id": "d879ebf9",
   "metadata": {},
   "source": [
    "No duplicate IDs in our data!"
   ]
  },
  {
   "cell_type": "markdown",
   "id": "af5a1cbf",
   "metadata": {},
   "source": [
    "### Initial Look"
   ]
  },
  {
   "cell_type": "code",
   "execution_count": 11,
   "id": "3994c563",
   "metadata": {},
   "outputs": [
    {
     "data": {
      "text/plain": [
       "Njombe          2503\n",
       "Arusha Rural    1252\n",
       "Moshi Rural     1251\n",
       "Bariadi         1177\n",
       "Rungwe          1106\n",
       "                ... \n",
       "Moshi Urban       79\n",
       "Kigoma Urban      71\n",
       "Arusha Urban      63\n",
       "Lindi Urban       21\n",
       "Nyamagana          1\n",
       "Name: lga, Length: 125, dtype: int64"
      ]
     },
     "execution_count": 11,
     "metadata": {},
     "output_type": "execute_result"
    }
   ],
   "source": [
    "train_df['lga'].value_counts()"
   ]
  },
  {
   "cell_type": "code",
   "execution_count": 12,
   "id": "b0acf647",
   "metadata": {},
   "outputs": [
    {
     "data": {
      "text/plain": [
       "Igosi            307\n",
       "Imalinyi         252\n",
       "Siha Kati        232\n",
       "Mdandu           231\n",
       "Nduruma          217\n",
       "                ... \n",
       "Linda              1\n",
       "Uchindile          1\n",
       "Ukata              1\n",
       "Machinjioni        1\n",
       "Kihangimahuka      1\n",
       "Name: ward, Length: 2092, dtype: int64"
      ]
     },
     "execution_count": 12,
     "metadata": {},
     "output_type": "execute_result"
    }
   ],
   "source": [
    "train_df['ward'].value_counts()"
   ]
  },
  {
   "cell_type": "code",
   "execution_count": 13,
   "id": "238425d6",
   "metadata": {
    "scrolled": false
   },
   "outputs": [
    {
     "data": {
      "text/plain": [
       "communal standpipe    34625\n",
       "hand pump             17488\n",
       "other                  6380\n",
       "improved spring         784\n",
       "cattle trough           116\n",
       "dam                       7\n",
       "Name: waterpoint_type_group, dtype: int64"
      ]
     },
     "execution_count": 13,
     "metadata": {},
     "output_type": "execute_result"
    }
   ],
   "source": [
    "train_df['waterpoint_type_group'].value_counts()"
   ]
  },
  {
   "cell_type": "code",
   "execution_count": 14,
   "id": "bb1f8382",
   "metadata": {},
   "outputs": [
    {
     "data": {
      "text/html": [
       "<div>\n",
       "<style scoped>\n",
       "    .dataframe tbody tr th:only-of-type {\n",
       "        vertical-align: middle;\n",
       "    }\n",
       "\n",
       "    .dataframe tbody tr th {\n",
       "        vertical-align: top;\n",
       "    }\n",
       "\n",
       "    .dataframe thead th {\n",
       "        text-align: right;\n",
       "    }\n",
       "</style>\n",
       "<table border=\"1\" class=\"dataframe\">\n",
       "  <thead>\n",
       "    <tr style=\"text-align: right;\">\n",
       "      <th></th>\n",
       "      <th>id</th>\n",
       "      <th>amount_tsh</th>\n",
       "      <th>gps_height</th>\n",
       "      <th>longitude</th>\n",
       "      <th>latitude</th>\n",
       "      <th>num_private</th>\n",
       "      <th>region_code</th>\n",
       "      <th>district_code</th>\n",
       "      <th>population</th>\n",
       "      <th>construction_year</th>\n",
       "    </tr>\n",
       "  </thead>\n",
       "  <tbody>\n",
       "    <tr>\n",
       "      <th>count</th>\n",
       "      <td>59400.000000</td>\n",
       "      <td>59400.000000</td>\n",
       "      <td>59400.000000</td>\n",
       "      <td>59400.000000</td>\n",
       "      <td>5.940000e+04</td>\n",
       "      <td>59400.000000</td>\n",
       "      <td>59400.000000</td>\n",
       "      <td>59400.000000</td>\n",
       "      <td>59400.000000</td>\n",
       "      <td>59400.000000</td>\n",
       "    </tr>\n",
       "    <tr>\n",
       "      <th>mean</th>\n",
       "      <td>37115.131768</td>\n",
       "      <td>317.650385</td>\n",
       "      <td>668.297239</td>\n",
       "      <td>34.077427</td>\n",
       "      <td>-5.706033e+00</td>\n",
       "      <td>0.474141</td>\n",
       "      <td>15.297003</td>\n",
       "      <td>5.629747</td>\n",
       "      <td>179.909983</td>\n",
       "      <td>1300.652475</td>\n",
       "    </tr>\n",
       "    <tr>\n",
       "      <th>std</th>\n",
       "      <td>21453.128371</td>\n",
       "      <td>2997.574558</td>\n",
       "      <td>693.116350</td>\n",
       "      <td>6.567432</td>\n",
       "      <td>2.946019e+00</td>\n",
       "      <td>12.236230</td>\n",
       "      <td>17.587406</td>\n",
       "      <td>9.633649</td>\n",
       "      <td>471.482176</td>\n",
       "      <td>951.620547</td>\n",
       "    </tr>\n",
       "    <tr>\n",
       "      <th>min</th>\n",
       "      <td>0.000000</td>\n",
       "      <td>0.000000</td>\n",
       "      <td>-90.000000</td>\n",
       "      <td>0.000000</td>\n",
       "      <td>-1.164944e+01</td>\n",
       "      <td>0.000000</td>\n",
       "      <td>1.000000</td>\n",
       "      <td>0.000000</td>\n",
       "      <td>0.000000</td>\n",
       "      <td>0.000000</td>\n",
       "    </tr>\n",
       "    <tr>\n",
       "      <th>25%</th>\n",
       "      <td>18519.750000</td>\n",
       "      <td>0.000000</td>\n",
       "      <td>0.000000</td>\n",
       "      <td>33.090347</td>\n",
       "      <td>-8.540621e+00</td>\n",
       "      <td>0.000000</td>\n",
       "      <td>5.000000</td>\n",
       "      <td>2.000000</td>\n",
       "      <td>0.000000</td>\n",
       "      <td>0.000000</td>\n",
       "    </tr>\n",
       "    <tr>\n",
       "      <th>50%</th>\n",
       "      <td>37061.500000</td>\n",
       "      <td>0.000000</td>\n",
       "      <td>369.000000</td>\n",
       "      <td>34.908743</td>\n",
       "      <td>-5.021597e+00</td>\n",
       "      <td>0.000000</td>\n",
       "      <td>12.000000</td>\n",
       "      <td>3.000000</td>\n",
       "      <td>25.000000</td>\n",
       "      <td>1986.000000</td>\n",
       "    </tr>\n",
       "    <tr>\n",
       "      <th>75%</th>\n",
       "      <td>55656.500000</td>\n",
       "      <td>20.000000</td>\n",
       "      <td>1319.250000</td>\n",
       "      <td>37.178387</td>\n",
       "      <td>-3.326156e+00</td>\n",
       "      <td>0.000000</td>\n",
       "      <td>17.000000</td>\n",
       "      <td>5.000000</td>\n",
       "      <td>215.000000</td>\n",
       "      <td>2004.000000</td>\n",
       "    </tr>\n",
       "    <tr>\n",
       "      <th>max</th>\n",
       "      <td>74247.000000</td>\n",
       "      <td>350000.000000</td>\n",
       "      <td>2770.000000</td>\n",
       "      <td>40.345193</td>\n",
       "      <td>-2.000000e-08</td>\n",
       "      <td>1776.000000</td>\n",
       "      <td>99.000000</td>\n",
       "      <td>80.000000</td>\n",
       "      <td>30500.000000</td>\n",
       "      <td>2013.000000</td>\n",
       "    </tr>\n",
       "  </tbody>\n",
       "</table>\n",
       "</div>"
      ],
      "text/plain": [
       "                 id     amount_tsh    gps_height     longitude      latitude  \\\n",
       "count  59400.000000   59400.000000  59400.000000  59400.000000  5.940000e+04   \n",
       "mean   37115.131768     317.650385    668.297239     34.077427 -5.706033e+00   \n",
       "std    21453.128371    2997.574558    693.116350      6.567432  2.946019e+00   \n",
       "min        0.000000       0.000000    -90.000000      0.000000 -1.164944e+01   \n",
       "25%    18519.750000       0.000000      0.000000     33.090347 -8.540621e+00   \n",
       "50%    37061.500000       0.000000    369.000000     34.908743 -5.021597e+00   \n",
       "75%    55656.500000      20.000000   1319.250000     37.178387 -3.326156e+00   \n",
       "max    74247.000000  350000.000000   2770.000000     40.345193 -2.000000e-08   \n",
       "\n",
       "        num_private   region_code  district_code    population  \\\n",
       "count  59400.000000  59400.000000   59400.000000  59400.000000   \n",
       "mean       0.474141     15.297003       5.629747    179.909983   \n",
       "std       12.236230     17.587406       9.633649    471.482176   \n",
       "min        0.000000      1.000000       0.000000      0.000000   \n",
       "25%        0.000000      5.000000       2.000000      0.000000   \n",
       "50%        0.000000     12.000000       3.000000     25.000000   \n",
       "75%        0.000000     17.000000       5.000000    215.000000   \n",
       "max     1776.000000     99.000000      80.000000  30500.000000   \n",
       "\n",
       "       construction_year  \n",
       "count       59400.000000  \n",
       "mean         1300.652475  \n",
       "std           951.620547  \n",
       "min             0.000000  \n",
       "25%             0.000000  \n",
       "50%          1986.000000  \n",
       "75%          2004.000000  \n",
       "max          2013.000000  "
      ]
     },
     "execution_count": 14,
     "metadata": {},
     "output_type": "execute_result"
    }
   ],
   "source": [
    "train_df.describe()"
   ]
  },
  {
   "cell_type": "code",
   "execution_count": 15,
   "id": "e1283d20",
   "metadata": {
    "scrolled": false
   },
   "outputs": [
    {
     "name": "stdout",
     "output_type": "stream",
     "text": [
      "<class 'pandas.core.frame.DataFrame'>\n",
      "Int64Index: 59400 entries, 0 to 59399\n",
      "Data columns (total 41 columns):\n",
      " #   Column                 Non-Null Count  Dtype  \n",
      "---  ------                 --------------  -----  \n",
      " 0   id                     59400 non-null  int64  \n",
      " 1   amount_tsh             59400 non-null  float64\n",
      " 2   date_recorded          59400 non-null  object \n",
      " 3   funder                 55765 non-null  object \n",
      " 4   gps_height             59400 non-null  int64  \n",
      " 5   installer              55745 non-null  object \n",
      " 6   longitude              59400 non-null  float64\n",
      " 7   latitude               59400 non-null  float64\n",
      " 8   wpt_name               59400 non-null  object \n",
      " 9   num_private            59400 non-null  int64  \n",
      " 10  basin                  59400 non-null  object \n",
      " 11  subvillage             59029 non-null  object \n",
      " 12  region                 59400 non-null  object \n",
      " 13  region_code            59400 non-null  int64  \n",
      " 14  district_code          59400 non-null  int64  \n",
      " 15  lga                    59400 non-null  object \n",
      " 16  ward                   59400 non-null  object \n",
      " 17  population             59400 non-null  int64  \n",
      " 18  public_meeting         56066 non-null  object \n",
      " 19  recorded_by            59400 non-null  object \n",
      " 20  scheme_management      55523 non-null  object \n",
      " 21  scheme_name            31234 non-null  object \n",
      " 22  permit                 56344 non-null  object \n",
      " 23  construction_year      59400 non-null  int64  \n",
      " 24  extraction_type        59400 non-null  object \n",
      " 25  extraction_type_group  59400 non-null  object \n",
      " 26  extraction_type_class  59400 non-null  object \n",
      " 27  management             59400 non-null  object \n",
      " 28  management_group       59400 non-null  object \n",
      " 29  payment                59400 non-null  object \n",
      " 30  payment_type           59400 non-null  object \n",
      " 31  water_quality          59400 non-null  object \n",
      " 32  quality_group          59400 non-null  object \n",
      " 33  quantity               59400 non-null  object \n",
      " 34  quantity_group         59400 non-null  object \n",
      " 35  source                 59400 non-null  object \n",
      " 36  source_type            59400 non-null  object \n",
      " 37  source_class           59400 non-null  object \n",
      " 38  waterpoint_type        59400 non-null  object \n",
      " 39  waterpoint_type_group  59400 non-null  object \n",
      " 40  status_group           59400 non-null  object \n",
      "dtypes: float64(3), int64(7), object(31)\n",
      "memory usage: 19.0+ MB\n"
     ]
    }
   ],
   "source": [
    "train_df.info()"
   ]
  },
  {
   "cell_type": "markdown",
   "id": "3445b71a",
   "metadata": {},
   "source": [
    "### Check the duplicate columns"
   ]
  },
  {
   "cell_type": "code",
   "execution_count": 16,
   "id": "4e5f9f86",
   "metadata": {},
   "outputs": [
    {
     "data": {
      "text/plain": [
       "scheme_management  scheme_name               \n",
       "VWC                K                             571\n",
       "WUA                Chalinze wate                 404\n",
       "VWC                DANIDA                        378\n",
       "                   M                             331\n",
       "WUG                None                          325\n",
       "                                                ... \n",
       "VWC                NKENJA                          1\n",
       "                   NYA/ MAK/ BUK piped scheme      1\n",
       "                   NYA/MAK/BUK  piped scheme       1\n",
       "                   NYA/MAK/BUK piped scheme        1\n",
       "Company            BFFS                            1\n",
       "Length: 3077, dtype: int64"
      ]
     },
     "execution_count": 16,
     "metadata": {},
     "output_type": "execute_result"
    }
   ],
   "source": [
    "#Who operates the waterpoint\n",
    "train_df[['scheme_management', 'scheme_name']].value_counts()"
   ]
  },
  {
   "cell_type": "code",
   "execution_count": 17,
   "id": "abb0c8d4",
   "metadata": {},
   "outputs": [
    {
     "data": {
      "text/plain": [
       "extraction_type            extraction_type_group  extraction_type_class\n",
       "gravity                    gravity                gravity                  26780\n",
       "nira/tanira                nira/tanira            handpump                  8154\n",
       "other                      other                  other                     6430\n",
       "submersible                submersible            submersible               4764\n",
       "swn 80                     swn 80                 handpump                  3670\n",
       "mono                       mono                   motorpump                 2865\n",
       "india mark ii              india mark ii          handpump                  2400\n",
       "afridev                    afridev                handpump                  1770\n",
       "ksb                        submersible            submersible               1415\n",
       "other - rope pump          rope pump              rope pump                  451\n",
       "other - swn 81             other handpump         handpump                   229\n",
       "windmill                   wind-powered           wind-powered               117\n",
       "india mark iii             india mark iii         handpump                    98\n",
       "cemo                       other motorpump        motorpump                   90\n",
       "other - play pump          other handpump         handpump                    85\n",
       "walimi                     other handpump         handpump                    48\n",
       "climax                     other motorpump        motorpump                   32\n",
       "other - mkulima/shinyanga  other handpump         handpump                     2\n",
       "dtype: int64"
      ]
     },
     "execution_count": 17,
     "metadata": {},
     "output_type": "execute_result"
    }
   ],
   "source": [
    "#The kind of extraction the waterpoint uses\n",
    "train_df[['extraction_type', 'extraction_type_group', 'extraction_type_class']].value_counts()"
   ]
  },
  {
   "cell_type": "code",
   "execution_count": 18,
   "id": "35c655e4",
   "metadata": {},
   "outputs": [
    {
     "data": {
      "text/plain": [
       "management        management_group\n",
       "vwc               user-group          40507\n",
       "wug               user-group           6515\n",
       "water board       user-group           2933\n",
       "wua               user-group           2535\n",
       "private operator  commercial           1971\n",
       "parastatal        parastatal           1768\n",
       "water authority   commercial            904\n",
       "other             other                 844\n",
       "company           commercial            685\n",
       "unknown           unknown               561\n",
       "other - school    other                  99\n",
       "trust             commercial             78\n",
       "dtype: int64"
      ]
     },
     "execution_count": 18,
     "metadata": {},
     "output_type": "execute_result"
    }
   ],
   "source": [
    "#How the waterpoint is managed\n",
    "train_df[['management', 'management_group']].value_counts()"
   ]
  },
  {
   "cell_type": "code",
   "execution_count": 19,
   "id": "fdc52ce8",
   "metadata": {},
   "outputs": [
    {
     "data": {
      "text/plain": [
       "payment                payment_type\n",
       "never pay              never pay       25348\n",
       "pay per bucket         per bucket       8985\n",
       "pay monthly            monthly          8300\n",
       "unknown                unknown          8157\n",
       "pay when scheme fails  on failure       3914\n",
       "pay annually           annually         3642\n",
       "other                  other            1054\n",
       "dtype: int64"
      ]
     },
     "execution_count": 19,
     "metadata": {},
     "output_type": "execute_result"
    }
   ],
   "source": [
    "#What the water costs\n",
    "train_df[['payment', 'payment_type']].value_counts()"
   ]
  },
  {
   "cell_type": "code",
   "execution_count": 20,
   "id": "7e8bb985",
   "metadata": {
    "scrolled": true
   },
   "outputs": [
    {
     "data": {
      "text/plain": [
       "water_quality       quality_group\n",
       "soft                good             50818\n",
       "salty               salty             4856\n",
       "unknown             unknown           1876\n",
       "milky               milky              804\n",
       "coloured            colored            490\n",
       "salty abandoned     salty              339\n",
       "fluoride            fluoride           200\n",
       "fluoride abandoned  fluoride            17\n",
       "dtype: int64"
      ]
     },
     "execution_count": 20,
     "metadata": {},
     "output_type": "execute_result"
    }
   ],
   "source": [
    "#The quality of the water\n",
    "train_df[['water_quality', 'quality_group']].value_counts()"
   ]
  },
  {
   "cell_type": "code",
   "execution_count": 21,
   "id": "babeb57d",
   "metadata": {
    "scrolled": true
   },
   "outputs": [
    {
     "data": {
      "text/plain": [
       "quantity      quantity_group\n",
       "enough        enough            33186\n",
       "insufficient  insufficient      15129\n",
       "dry           dry                6246\n",
       "seasonal      seasonal           4050\n",
       "unknown       unknown             789\n",
       "dtype: int64"
      ]
     },
     "execution_count": 21,
     "metadata": {},
     "output_type": "execute_result"
    }
   ],
   "source": [
    "#The quantity of the water\n",
    "train_df[['quantity', 'quantity_group']].value_counts()"
   ]
  },
  {
   "cell_type": "code",
   "execution_count": 22,
   "id": "385c4e47",
   "metadata": {},
   "outputs": [
    {
     "data": {
      "text/plain": [
       "source                source_type           source_class\n",
       "spring                spring                groundwater     17021\n",
       "shallow well          shallow well          groundwater     16824\n",
       "machine dbh           borehole              groundwater     11075\n",
       "river                 river/lake            surface          9612\n",
       "rainwater harvesting  rainwater harvesting  surface          2295\n",
       "hand dtw              borehole              groundwater       874\n",
       "lake                  river/lake            surface           765\n",
       "dam                   dam                   surface           656\n",
       "other                 other                 unknown           212\n",
       "unknown               other                 unknown            66\n",
       "dtype: int64"
      ]
     },
     "execution_count": 22,
     "metadata": {},
     "output_type": "execute_result"
    }
   ],
   "source": [
    "#The source of the water\n",
    "train_df[['source', 'source_type', 'source_class']].value_counts()"
   ]
  },
  {
   "cell_type": "code",
   "execution_count": 23,
   "id": "c9b0e64c",
   "metadata": {},
   "outputs": [
    {
     "data": {
      "text/plain": [
       "waterpoint_type              waterpoint_type_group\n",
       "communal standpipe           communal standpipe       28522\n",
       "hand pump                    hand pump                17488\n",
       "other                        other                     6380\n",
       "communal standpipe multiple  communal standpipe        6103\n",
       "improved spring              improved spring            784\n",
       "cattle trough                cattle trough              116\n",
       "dam                          dam                          7\n",
       "dtype: int64"
      ]
     },
     "execution_count": 23,
     "metadata": {},
     "output_type": "execute_result"
    }
   ],
   "source": [
    "#The kind of waterpoint\n",
    "train_df[['waterpoint_type', 'waterpoint_type_group']].value_counts()"
   ]
  },
  {
   "cell_type": "code",
   "execution_count": 24,
   "id": "d5e89473",
   "metadata": {},
   "outputs": [
    {
     "data": {
      "text/plain": [
       "subvillage            region         region_code  district_code  lga           ward   \n",
       "Mtaa Wa Kitunda Kati  Dar es Salaam  7            2              Ilala         Kitunda    84\n",
       "Marurani Kati         Arusha         2            2              Arusha Rural  Nduruma    59\n",
       "Marurani Juu          Arusha         2            2              Arusha Rural  Nduruma    54\n",
       "Mtaa Wa Vikongoro     Dar es Salaam  7            2              Ilala         Chanika    47\n",
       "Vikuge                Pwani          6            2              Kibaha        Soga       41\n",
       "                                                                                          ..\n",
       "Minazini              Lindi          80           43             Liwale        Mihumo      1\n",
       "                      Morogoro       5            4              Ulanga        Itete       1\n",
       "                                                  6              Mvomero       Hembeti     1\n",
       "                                                                               Mhonda      1\n",
       "##                    Kagera         18           2              Bukoba Rural  Izimbya     1\n",
       "Length: 27491, dtype: int64"
      ]
     },
     "execution_count": 24,
     "metadata": {},
     "output_type": "execute_result"
    }
   ],
   "source": [
    "#Geographic location\n",
    "train_df[['subvillage', 'region', 'region_code', 'district_code', 'lga', 'ward']].value_counts()"
   ]
  },
  {
   "cell_type": "markdown",
   "id": "e5b0f180",
   "metadata": {},
   "source": [
    "### Dropping Columns/Rows"
   ]
  },
  {
   "cell_type": "code",
   "execution_count": 25,
   "id": "3ca89972",
   "metadata": {
    "scrolled": true
   },
   "outputs": [],
   "source": [
    "#Drop scheme_name column as well as columns with duplicate data\n",
    "clean_train = train_df.drop(['scheme_name', 'num_private', 'recorded_by', 'extraction_type', 'extraction_type_group', \n",
    "                           'management', 'payment', 'water_quality', 'quantity_group', 'source', 'waterpoint_type'], \n",
    "                          axis=1)\n",
    "\n",
    "#Drop null values\n",
    "clean_train = clean_train.dropna()\n",
    "\n",
    "\n",
    "#Check the wells with Longitude = 0\n",
    "clean_train.loc[clean_train['longitude'] == 0]\n",
    "\n",
    "#Select and Keep the rows that don't have Longitude of 0\n",
    "clean_train = clean_train.loc[clean_train['longitude'] != 0]"
   ]
  },
  {
   "cell_type": "markdown",
   "id": "0c7e9168",
   "metadata": {},
   "source": [
    "We've elected to drop the column 'scheme_name' due to the extensive number of missing values - 28,166 to be precise. \n",
    "\n",
    "The columns with more unique values were dropped and columns with more generalized values were kept. Rows with missing data have been dropped as well as it is a smaller portion of the dataset. \n",
    "\n",
    "1326 wells have a Longitude of 0. That's not right, Tanzania's Longitude ranges from around 30-40 degrees East. Let's drop these wells with the incorrect value and keep the one within the right Tanzania longitude/latitude range."
   ]
  },
  {
   "cell_type": "markdown",
   "id": "bf364ba1",
   "metadata": {},
   "source": [
    "### Construction Year"
   ]
  },
  {
   "cell_type": "code",
   "execution_count": 26,
   "id": "652fcbe1",
   "metadata": {
    "scrolled": true
   },
   "outputs": [
    {
     "data": {
      "text/plain": [
       "0       14489\n",
       "2008     2426\n",
       "2009     2306\n",
       "2010     2011\n",
       "2007     1423\n",
       "2006     1329\n",
       "2000     1252\n",
       "2003     1191\n",
       "2011     1032\n",
       "1978      997\n",
       "2004      987\n",
       "2002      954\n",
       "2005      879\n",
       "1999      877\n",
       "2012      836\n",
       "1998      789\n",
       "1995      782\n",
       "1985      767\n",
       "1984      710\n",
       "1982      695\n",
       "1972      679\n",
       "1974      621\n",
       "1990      615\n",
       "1994      595\n",
       "1980      581\n",
       "1996      571\n",
       "1992      512\n",
       "1988      491\n",
       "2001      476\n",
       "1997      476\n",
       "1993      463\n",
       "1983      457\n",
       "1975      402\n",
       "1986      391\n",
       "1976      367\n",
       "1970      297\n",
       "1989      293\n",
       "1991      278\n",
       "1987      268\n",
       "1981      217\n",
       "1973      183\n",
       "1979      161\n",
       "1977      153\n",
       "2013      134\n",
       "1971      128\n",
       "1963       83\n",
       "1967       80\n",
       "1968       57\n",
       "1969       55\n",
       "1960       39\n",
       "1962       27\n",
       "1964       27\n",
       "1961       20\n",
       "1965       17\n",
       "1966       16\n",
       "Name: construction_year, dtype: int64"
      ]
     },
     "execution_count": 26,
     "metadata": {},
     "output_type": "execute_result"
    }
   ],
   "source": [
    "#Check the construction years\n",
    "clean_train['construction_year'].value_counts()"
   ]
  },
  {
   "cell_type": "markdown",
   "id": "fa01c37e",
   "metadata": {},
   "source": [
    "About a third of our data is has the construction_year equaling to 0. We will keep it as is for now."
   ]
  },
  {
   "cell_type": "markdown",
   "id": "38eff136",
   "metadata": {},
   "source": [
    "### Installer"
   ]
  },
  {
   "cell_type": "code",
   "execution_count": 27,
   "id": "30a24551",
   "metadata": {},
   "outputs": [
    {
     "data": {
      "text/plain": [
       "1757"
      ]
     },
     "execution_count": 27,
     "metadata": {},
     "output_type": "execute_result"
    }
   ],
   "source": [
    "clean_train['installer'].nunique()"
   ]
  },
  {
   "cell_type": "code",
   "execution_count": 28,
   "id": "4cd8c7f2",
   "metadata": {
    "scrolled": true
   },
   "outputs": [
    {
     "data": {
      "text/plain": [
       "DWE                           13879\n",
       "Government                     1283\n",
       "RWE                            1007\n",
       "Commu                           893\n",
       "KKKT                            884\n",
       "DANIDA                          861\n",
       "TCRS                            668\n",
       "Central government              616\n",
       "CES                             610\n",
       "DANID                           552\n",
       "District Council                538\n",
       "Community                       528\n",
       "Hesawa                          523\n",
       "LGA                             400\n",
       "District council                386\n",
       "WEDECO                          379\n",
       "HESAWA                          366\n",
       "Gover                           352\n",
       "World vision                    345\n",
       "0                               344\n",
       "TASAF                           328\n",
       "TWESA                           306\n",
       "WU                              301\n",
       "AMREF                           284\n",
       "Dmdd                            284\n",
       "ACRA                            277\n",
       "SEMA                            249\n",
       "OXFAM                           233\n",
       "DW                              223\n",
       "Da                              221\n",
       "Gove                            220\n",
       "Sengerema Water Department      214\n",
       "World Vision                    214\n",
       "Kiliwater                       210\n",
       "NORAD                           208\n",
       "FinW                            208\n",
       "UNICEF                          201\n",
       "DH                              200\n",
       "Villagers                       196\n",
       "DWSP                            192\n",
       "Idara ya maji                   191\n",
       "Distri                          181\n",
       "Lawatefuka water sup            180\n",
       "Magadini-Makiwaru wa            175\n",
       "KKKT _ Konde and DWE            165\n",
       "FW                              165\n",
       "Centr                           162\n",
       "RC                              161\n",
       "MWE                             157\n",
       "Handeni Trunk Main(             156\n",
       "Name: installer, dtype: int64"
      ]
     },
     "execution_count": 28,
     "metadata": {},
     "output_type": "execute_result"
    }
   ],
   "source": [
    "clean_train['installer'].value_counts().head(50)"
   ]
  },
  {
   "cell_type": "markdown",
   "id": "8a4d90f8",
   "metadata": {},
   "source": [
    "Taking a look into our installer column, there seems to be a lot of different installers, but significant variations in spelling as well. Let's try to clean some of that up."
   ]
  },
  {
   "cell_type": "code",
   "execution_count": 29,
   "id": "c8635eee",
   "metadata": {},
   "outputs": [],
   "source": [
    "#Convert Installer Spelling Variations into Same Installer\n",
    "clean_train['installer'].replace(('Gover', 'Gove', 'GOVER', 'Government Of Tanzania', 'GOVERNMENT', \n",
    "                                                         'GOVERN', 'Tanzania Government'), ('Government'))\n",
    "\n",
    "clean_train['installer'].replace(('Dwe', 'DW', 'TWE', 'dwe', 'DWE/Anglican church', 'RWE'), ('DWE'), inplace=True)\n",
    "\n",
    "clean_train['installer'].replace(('Unicef', 'Unisef'), ('UNICEF'), inplace=True)\n",
    "\n",
    "clean_train['installer'].replace(('Kkkt _ Konde And Dwe', 'Kkkt', 'KKKT _ Konde and DWE', \n",
    "                                                         'KKKT MAREU', 'KKKT Canal'), ('KKKT'), inplace=True)\n",
    "\n",
    "clean_train['installer'].replace(('Commu', 'commu', 'Communit'), ('Community'), inplace=True)\n",
    "\n",
    "clean_train['installer'].replace(('Centre', 'Centr', 'Central govt', 'Central government', \n",
    "                                                         'Central Gover'), ('Central Government'), inplace=True)\n",
    "\n",
    "clean_train['installer'].replace(('District council', 'Distri'), ('District Council'), inplace=True)\n",
    "\n",
    "clean_train['installer'].replace(('World vision', 'world vision', 'WORLD VISION', \n",
    "                                                         'World Vission'), ('World Vision'), inplace=True)\n",
    "\n",
    "clean_train['installer'].replace(('FinW', 'Fini Water ', 'FINI WATER', 'FIN WATER', 'fin water', \n",
    "                                                         'Finwater'), ('Fini Water'), inplace=True)\n",
    "\n",
    "clean_train['installer'].replace(('RC', 'RC CHURCH', 'RC mission', 'RC Mis', 'RC church/Central Gover'), ('RC Church'), inplace=True)\n",
    "\n",
    "clean_train['installer'].replace(('World'), ('World Bank'), inplace=True)\n",
    "\n",
    "clean_train['installer'].replace(('Is', 'IS'), ('ISF'), inplace=True)\n",
    "\n",
    "clean_train['installer'].replace(('Amref'), ('AMREF'), inplace=True)\n",
    "\n",
    "clean_train['installer'].replace(('WATER AID', 'water aid'), ('Water Aid'), inplace=True)\n",
    "\n",
    "clean_train['installer'].replace(('PRIVATE INSTITUTIONS', 'PRIV', 'PRIVATE'), ('Private'), inplace=True)\n",
    "\n",
    "clean_train['installer'].replace(('Village Technician', 'Village Community', 'Village Council',\n",
    "                                                         'Village govt', 'Village Govt', ' VILLAGE COMMUNITY', \n",
    "                                                         'Sekei village community', 'VILLAGE COUNCIL', 'Nduku village', \n",
    "                                                         'Village Counil', 'Village Government', 'Village community', \n",
    "                                                         'VILLAGE WATER COMMISSION', 'Village  Council'), ('Villagers'), inplace=True)\n",
    "\n",
    "clean_train['installer'].replace(('Kuwaiti', 'kuwait'), ('Kuwait'), inplace=True)\n",
    "\n",
    "clean_train['installer'].replace(('0', 'O'), ('Unknown'), inplace=True)\n",
    "\n",
    "clean_train['installer'].replace(('Dmdd', 'dmdd'), ('DMDD'), inplace=True)\n",
    "\n",
    "clean_train['installer'].replace(('Hesawa', 'hesawa', 'HE'), ('HESAWA'), inplace=True)\n",
    "\n",
    "clean_train['installer'].replace(('Ministry of water engineer', 'Consulting Engineer'), \n",
    "                                                        ('Other Engineer'), inplace=True)\n",
    "\n",
    "clean_train['installer'].replace(('DANID'), ('DANIDA'), inplace=True)\n",
    "\n",
    "clean_train['installer'].replace(('JAICA', 'JICA', 'Jica', 'Jeica', 'JAICA CO'), ('Jaica'), inplace=True)"
   ]
  },
  {
   "cell_type": "code",
   "execution_count": 30,
   "id": "07832e30",
   "metadata": {
    "scrolled": false
   },
   "outputs": [
    {
     "data": {
      "text/plain": [
       "DWE                   15224\n",
       "Community              1464\n",
       "DANIDA                 1413\n",
       "Government             1283\n",
       "District Council       1105\n",
       "KKKT                   1053\n",
       "Central Government     1017\n",
       "HESAWA                  996\n",
       "TCRS                    668\n",
       "CES                     610\n",
       "World Vision            586\n",
       "Fini Water              538\n",
       "LGA                     400\n",
       "AMREF                   392\n",
       "WEDECO                  379\n",
       "DMDD                    367\n",
       "RC Church               367\n",
       "Villagers               366\n",
       "Gover                   352\n",
       "Unknown                 348\n",
       "Name: installer, dtype: int64"
      ]
     },
     "execution_count": 30,
     "metadata": {},
     "output_type": "execute_result"
    }
   ],
   "source": [
    "clean_train['installer'].value_counts().head(20)"
   ]
  },
  {
   "cell_type": "markdown",
   "id": "b7b5b6c8",
   "metadata": {},
   "source": [
    "After cleaning our installers up a bit, we see quite a change in the numbers, however DWE (District Water Engineer) seems to be the top installer for the wells within our dataset."
   ]
  },
  {
   "cell_type": "markdown",
   "id": "d3c1f07a",
   "metadata": {},
   "source": [
    "## Export Dataset"
   ]
  },
  {
   "cell_type": "code",
   "execution_count": 31,
   "id": "96cbd813",
   "metadata": {},
   "outputs": [],
   "source": [
    "clean_train.to_csv('clean_train.csv')"
   ]
  }
 ],
 "metadata": {
  "kernelspec": {
   "display_name": "Python (learn-env)",
   "language": "python",
   "name": "learn-env"
  },
  "language_info": {
   "codemirror_mode": {
    "name": "ipython",
    "version": 3
   },
   "file_extension": ".py",
   "mimetype": "text/x-python",
   "name": "python",
   "nbconvert_exporter": "python",
   "pygments_lexer": "ipython3",
   "version": "3.8.5"
  }
 },
 "nbformat": 4,
 "nbformat_minor": 5
}
